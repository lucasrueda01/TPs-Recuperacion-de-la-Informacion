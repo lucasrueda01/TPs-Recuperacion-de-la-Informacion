{
 "cells": [
  {
   "cell_type": "markdown",
   "metadata": {},
   "source": [
    "Sobre la colección Vaswani, ejecute los stemmers Porter y Lancaster provistos en el módulo nltk.stem. Compare: cantidad de tokens únicos resultantes, resultado 1 a 1 y tiempo de ejecución para toda la colección. ¿Qué conclusiones puede obtener de la ejecución de uno y otro?"
   ]
  },
  {
   "cell_type": "code",
   "execution_count": 11,
   "metadata": {},
   "outputs": [
    {
     "name": "stdout",
     "output_type": "stream",
     "text": [
      "Terminos Porter: 7993\n",
      "Terminos Lancaster: 6877\n",
      "Tiempo de procesamiento con Porter: 4.02s\n",
      "Tiempo de procesamiento con Lancaster: 3.51s\n",
      "Interseccion: 4760\n",
      "Diferencia: 3233\n"
     ]
    }
   ],
   "source": [
    "\n",
    "from nltk.stem import PorterStemmer\n",
    "from nltk.stem import LancasterStemmer\n",
    "import re\n",
    "import time\n",
    "\n",
    "\n",
    "def leer_docs(archivo):\n",
    "    documentos = {}  \n",
    "\n",
    "    with open(archivo, \"r\", encoding=\"utf-8\") as f:\n",
    "        contenido = f.read()  \n",
    "    \n",
    "        docs = re.findall(r\"<DOC>\\s*<DOCNO>(\\d+)</DOCNO>\\s*(.*?)\\s*</DOC>\", contenido, re.DOTALL)\n",
    "\n",
    "        for doc_id, texto in docs:\n",
    "            documentos[doc_id] = texto.strip()  # Guardar texto limpio\n",
    "\n",
    "    return documentos\n",
    "\n",
    "def sacar_acentos(texto):\n",
    "    texto = re.sub(r\"[áàäâã]\", \"a\", texto)\n",
    "    texto = re.sub(r\"[éèëê]\", \"e\", texto)\n",
    "    texto = re.sub(r\"[íìïî]\", \"i\", texto)\n",
    "    texto = re.sub(r\"[óòöôõ]\", \"o\", texto)\n",
    "    texto = re.sub(r\"[úùüû]\", \"u\", texto)\n",
    "    return texto\n",
    "\n",
    "def procesarPorter(documentos):\n",
    "    stemmer = PorterStemmer()\n",
    "    tokens_porter = set()\n",
    "    for doc_id, texto in documentos.items():\n",
    "        texto = texto.lower()  # Convertir a minusculas\n",
    "        texto = sacar_acentos(texto)\n",
    "        texto = re.sub(r\"[^a-z\\s]\", \"\", texto)  # Eliminar caracteres especiales\n",
    "        tokens = texto.split()  # Tokenizar (En este caso separo por espacios)\n",
    "        tokens = [stemmer.stem(token) for token in tokens]\n",
    "        tokens_porter.update(tokens)\n",
    "        \n",
    "    return tokens_porter\n",
    "\n",
    "def procesarLancaster(documentos):\n",
    "    stemmer = LancasterStemmer()\n",
    "    tokens_lancaster = set()\n",
    "    for doc_id, texto in documentos.items():\n",
    "        texto = texto.lower()  # Convertir a minusculas\n",
    "        texto = sacar_acentos(texto)\n",
    "        texto = re.sub(r\"[^a-z\\s]\", \"\", texto)  # Eliminar caracteres especiales\n",
    "        tokens = texto.split()  # Tokenizar (En este caso separo por espacios)\n",
    "        tokens = [stemmer.stem(token) for token in tokens]\n",
    "        tokens_lancaster.update(tokens)\n",
    "\n",
    "    return tokens_lancaster\n",
    "\n",
    "archivo_trec = \"vaswani/corpus/doc-text.trec\"\n",
    "documentos = leer_docs(archivo_trec)\n",
    "\n",
    "inicio = time.time()\n",
    "tokens_porter = procesarPorter(documentos)\n",
    "fin = time.time()\n",
    "porter_time = round(fin - inicio, 2)\n",
    "\n",
    "inicio = time.time()\n",
    "tokens_lancaster = procesarLancaster(documentos)\n",
    "fin = time.time()\n",
    "lancaster_time = round(fin - inicio, 2)\n",
    "\n",
    "print(f\"Terminos Porter: {len(tokens_porter)}\")\n",
    "print(f\"Terminos Lancaster: {len(tokens_lancaster)}\")\n",
    "print(f\"Tiempo de procesamiento con Porter: {porter_time}s\")\n",
    "print(f\"Tiempo de procesamiento con Lancaster: {lancaster_time}s\")\n",
    "print(f\"Interseccion: {len(tokens_porter.intersection(tokens_lancaster))}\")\n",
    "print(f\"Diferencia: {len(tokens_porter.difference(tokens_lancaster))}\")\n",
    "\n",
    "tokens_porter = sorted(list(tokens_porter))\n",
    "tokens_lancaster = sorted(list(tokens_lancaster))\n",
    "\n",
    "with open(\"porter_lancaster.txt\", \"w\", encoding=\"utf-8\") as f:\n",
    "    f.write(\"Porter\\tLancaster\\n\")\n",
    "    for i in range(max(len(tokens_porter), len(tokens_lancaster))):\n",
    "        if i < len(tokens_porter):\n",
    "            f.write(f\"{tokens_porter[i]}\")\n",
    "        if i < len(tokens_lancaster):\n",
    "            f.write(f\"\\t{tokens_lancaster[i]}\")\n",
    "        f.write(\"\\n\")"
   ]
  }
 ],
 "metadata": {
  "kernelspec": {
   "display_name": "venv",
   "language": "python",
   "name": "python3"
  },
  "language_info": {
   "codemirror_mode": {
    "name": "ipython",
    "version": 3
   },
   "file_extension": ".py",
   "mimetype": "text/x-python",
   "name": "python",
   "nbconvert_exporter": "python",
   "pygments_lexer": "ipython3",
   "version": "3.12.3"
  }
 },
 "nbformat": 4,
 "nbformat_minor": 2
}
